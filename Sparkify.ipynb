{
 "cells": [
  {
   "cell_type": "markdown",
   "metadata": {},
   "source": [
    "# Sparkify Project Workspace\n",
    "This workspace contains a tiny subset (128MB) of the full dataset available (12GB). "
   ]
  },
  {
   "cell_type": "markdown",
   "metadata": {},
   "source": [
    "## Project Overview\n",
    "Sparkify, is our fictious music streaming app, and has data regarding its user's actions on its app. It has two main categories of users - free and paid. Paid users pay a premium monthly for few additional benefits. The project is done as a part of Udacity Data Scientist Nanodegree program - Term 2, final Capstone project. \n",
    "We intend to use Spark via python (Pyspark) on this project and use its many features. We will initially do some exploratory analysis followed by Feature engineering and Machine learning to solve our actual problem at hand. We will use Spark ML library for this.\n",
    "## Problem Statement\n",
    "The project aims to detect users who are more likely to churn the platform all together based on the past users actions.\n",
    "## Metrics\n",
    "We will be using F1 score as a metric to optimize our model as we have relatively very small number of positives. AUC ROC could have been used in cases where we have a good number of positives as it relies on True positive, and False positive counts."
   ]
  },
  {
   "cell_type": "markdown",
   "metadata": {},
   "source": [
    "## Let's get Started"
   ]
  },
  {
   "cell_type": "code",
   "execution_count": 108,
   "metadata": {},
   "outputs": [],
   "source": [
    "#import required libraries\n",
    "import dill\n",
    "\n",
    "from pyspark.sql import SparkSession\n",
    "from pyspark.sql.types import *\n",
    "from pyspark.sql.functions import avg, col, concat, isnull, desc, explode, lit, min, max, split, udf, count, round, when, lag, dense_rank, ceil, floor\n",
    "from pyspark.sql.types import IntegerType, StructType, StringType, DoubleType, StructField\n",
    "from pyspark.sql.window import Window\n",
    "\n",
    "from pyspark.ml import Pipeline, PipelineModel\n",
    "from pyspark.ml.classification import LogisticRegression, GBTClassifier, RandomForestClassifier,LinearSVC\n",
    "from pyspark.ml.evaluation import BinaryClassificationEvaluator, MulticlassClassificationEvaluator\n",
    "from pyspark.mllib.evaluation import BinaryClassificationMetrics\n",
    "from pyspark.ml.feature import CountVectorizer, IDF, Normalizer, PCA, StandardScaler, VectorAssembler, StringIndexer, IndexToString\n",
    "from pyspark.ml.regression import LinearRegression\n",
    "from pyspark.ml.tuning import CrossValidator, ParamGridBuilder\n",
    "\n",
    "import re\n",
    "import datetime\n",
    "import pandas as pd\n",
    "import numpy as np\n",
    "import seaborn as sns\n",
    "import matplotlib.pyplot as plt \n",
    "%matplotlib inline"
   ]
  },
  {
   "cell_type": "code",
   "execution_count": null,
   "metadata": {},
   "outputs": [],
   "source": [
    "spark = SparkSession.builder \\\n",
    "    .master(\"local\") \\\n",
    "    .appName(\"Sparkify\") \\\n",
    "    .getOrCreate()"
   ]
  },
  {
   "cell_type": "markdown",
   "metadata": {},
   "source": [
    "# Load and Clean Dataset\n",
    "In this workspace, the mini-dataset file is `mini_sparkify_event_data.json`. Load and clean the dataset, checking for invalid or missing data - for example, records without userids or sessionids. "
   ]
  },
  {
   "cell_type": "code",
   "execution_count": null,
   "metadata": {},
   "outputs": [],
   "source": [
    "df = spark.read.json('mini_sparkify_event_data.json')\n",
    "df.persist()"
   ]
  },
  {
   "cell_type": "code",
   "execution_count": 9,
   "metadata": {},
   "outputs": [
    {
     "data": {
      "text/plain": [
       "286500"
      ]
     },
     "execution_count": 9,
     "metadata": {},
     "output_type": "execute_result"
    }
   ],
   "source": [
    "df.count()"
   ]
  },
  {
   "cell_type": "code",
   "execution_count": 10,
   "metadata": {},
   "outputs": [
    {
     "data": {
      "text/plain": [
       "286500"
      ]
     },
     "execution_count": 10,
     "metadata": {},
     "output_type": "execute_result"
    }
   ],
   "source": [
    "df = df.dropDuplicates()\n",
    "df.count()"
   ]
  },
  {
   "cell_type": "code",
   "execution_count": 11,
   "metadata": {},
   "outputs": [
    {
     "name": "stdout",
     "output_type": "stream",
     "text": [
      "286500\n",
      "8346\n"
     ]
    }
   ],
   "source": [
    "#check for missing or Null userIds\n",
    "print(df[df.userId.isNotNull()].count())\n",
    "print(df[df.userId==\"\"].count())"
   ]
  },
  {
   "cell_type": "code",
   "execution_count": 12,
   "metadata": {},
   "outputs": [
    {
     "name": "stdout",
     "output_type": "stream",
     "text": [
      "286500\n",
      "0\n"
     ]
    }
   ],
   "source": [
    "print(df[df.sessionId.isNotNull()].count())\n",
    "print(df[df.sessionId==\"\"].count())"
   ]
  },
  {
   "cell_type": "code",
   "execution_count": null,
   "metadata": {},
   "outputs": [],
   "source": [
    "#remove blank userIds which are probably users who did not register\n",
    "df = df[df.userId!=\"\"]\n",
    "df.count() #check for size"
   ]
  },
  {
   "cell_type": "markdown",
   "metadata": {},
   "source": [
    "# Exploratory Data Analysis"
   ]
  },
  {
   "cell_type": "markdown",
   "metadata": {},
   "source": [
    "Let's get top 20 artists songs played count between the free vs paid users"
   ]
  },
  {
   "cell_type": "code",
   "execution_count": 89,
   "metadata": {},
   "outputs": [
    {
     "name": "stdout",
     "output_type": "stream",
     "text": [
      "+--------------------+-----------+\n",
      "|              artist|total_count|\n",
      "+--------------------+-----------+\n",
      "|       Kings Of Leon|       1841|\n",
      "|            Coldplay|       1813|\n",
      "|Florence + The Ma...|       1236|\n",
      "|       Dwight Yoakam|       1135|\n",
      "|            BjÃÂ¶rk|       1133|\n",
      "|      The Black Keys|       1125|\n",
      "|                Muse|       1090|\n",
      "|       Justin Bieber|       1044|\n",
      "|        Jack Johnson|       1007|\n",
      "|              Eminem|        953|\n",
      "+--------------------+-----------+\n",
      "only showing top 10 rows\n",
      "\n"
     ]
    }
   ],
   "source": [
    "#get overall top 10 artists and their counts\n",
    "top_artists = df.filter(df.page==\"NextSong\").groupby(\"artist\") \\\n",
    "                    .agg(count(\"artist\").alias(\"total_count\")).sort(col(\"total_count\").desc())\n",
    "top_artists.show(10)"
   ]
  },
  {
   "cell_type": "code",
   "execution_count": 90,
   "metadata": {},
   "outputs": [],
   "source": [
    "#limit top artists to top 10 artists\n",
    "top_artists_pd = top_artists.toPandas()\n",
    "top_artists_pd = top_artists_pd.head(10)"
   ]
  },
  {
   "cell_type": "markdown",
   "metadata": {},
   "source": [
    "Similarly pull top artists, their song counts of free users, and top artists, their song counts of paid users."
   ]
  },
  {
   "cell_type": "code",
   "execution_count": 91,
   "metadata": {},
   "outputs": [
    {
     "data": {
      "text/html": [
       "<div>\n",
       "<style scoped>\n",
       "    .dataframe tbody tr th:only-of-type {\n",
       "        vertical-align: middle;\n",
       "    }\n",
       "\n",
       "    .dataframe tbody tr th {\n",
       "        vertical-align: top;\n",
       "    }\n",
       "\n",
       "    .dataframe thead th {\n",
       "        text-align: right;\n",
       "    }\n",
       "</style>\n",
       "<table border=\"1\" class=\"dataframe\">\n",
       "  <thead>\n",
       "    <tr style=\"text-align: right;\">\n",
       "      <th></th>\n",
       "      <th>artist</th>\n",
       "      <th>total_count</th>\n",
       "    </tr>\n",
       "  </thead>\n",
       "  <tbody>\n",
       "    <tr>\n",
       "      <th>0</th>\n",
       "      <td>Kings Of Leon</td>\n",
       "      <td>357</td>\n",
       "    </tr>\n",
       "    <tr>\n",
       "      <th>1</th>\n",
       "      <td>Coldplay</td>\n",
       "      <td>319</td>\n",
       "    </tr>\n",
       "    <tr>\n",
       "      <th>2</th>\n",
       "      <td>Florence + The Machine</td>\n",
       "      <td>262</td>\n",
       "    </tr>\n",
       "    <tr>\n",
       "      <th>3</th>\n",
       "      <td>Dwight Yoakam</td>\n",
       "      <td>236</td>\n",
       "    </tr>\n",
       "    <tr>\n",
       "      <th>4</th>\n",
       "      <td>The Black Keys</td>\n",
       "      <td>226</td>\n",
       "    </tr>\n",
       "    <tr>\n",
       "      <th>5</th>\n",
       "      <td>BjÃÂ¶rk</td>\n",
       "      <td>201</td>\n",
       "    </tr>\n",
       "    <tr>\n",
       "      <th>6</th>\n",
       "      <td>Muse</td>\n",
       "      <td>192</td>\n",
       "    </tr>\n",
       "    <tr>\n",
       "      <th>7</th>\n",
       "      <td>Justin Bieber</td>\n",
       "      <td>182</td>\n",
       "    </tr>\n",
       "    <tr>\n",
       "      <th>8</th>\n",
       "      <td>Radiohead</td>\n",
       "      <td>181</td>\n",
       "    </tr>\n",
       "    <tr>\n",
       "      <th>9</th>\n",
       "      <td>Eminem</td>\n",
       "      <td>173</td>\n",
       "    </tr>\n",
       "  </tbody>\n",
       "</table>\n",
       "</div>"
      ],
      "text/plain": [
       "                   artist  total_count\n",
       "0           Kings Of Leon          357\n",
       "1                Coldplay          319\n",
       "2  Florence + The Machine          262\n",
       "3           Dwight Yoakam          236\n",
       "4          The Black Keys          226\n",
       "5                BjÃÂ¶rk          201\n",
       "6                    Muse          192\n",
       "7           Justin Bieber          182\n",
       "8               Radiohead          181\n",
       "9                  Eminem          173"
      ]
     },
     "execution_count": 91,
     "metadata": {},
     "output_type": "execute_result"
    }
   ],
   "source": [
    "#get free users top 10 artists and their counts\n",
    "free_top_artists = df.filter((df.page==\"NextSong\") & (df.level==\"free\")).groupby(\"artist\") \\\n",
    "                        .agg(count(\"artist\").alias(\"total_count\")).sort(col(\"total_count\").desc())\n",
    "\n",
    "free_top_artists_pd = free_top_artists.toPandas()\n",
    "free_top_artists_pd = free_top_artists_pd.head(10)\n",
    "free_top_artists_pd"
   ]
  },
  {
   "cell_type": "code",
   "execution_count": 92,
   "metadata": {},
   "outputs": [
    {
     "data": {
      "text/html": [
       "<div>\n",
       "<style scoped>\n",
       "    .dataframe tbody tr th:only-of-type {\n",
       "        vertical-align: middle;\n",
       "    }\n",
       "\n",
       "    .dataframe tbody tr th {\n",
       "        vertical-align: top;\n",
       "    }\n",
       "\n",
       "    .dataframe thead th {\n",
       "        text-align: right;\n",
       "    }\n",
       "</style>\n",
       "<table border=\"1\" class=\"dataframe\">\n",
       "  <thead>\n",
       "    <tr style=\"text-align: right;\">\n",
       "      <th></th>\n",
       "      <th>artist</th>\n",
       "      <th>total_count</th>\n",
       "    </tr>\n",
       "  </thead>\n",
       "  <tbody>\n",
       "    <tr>\n",
       "      <th>0</th>\n",
       "      <td>Coldplay</td>\n",
       "      <td>1494</td>\n",
       "    </tr>\n",
       "    <tr>\n",
       "      <th>1</th>\n",
       "      <td>Kings Of Leon</td>\n",
       "      <td>1484</td>\n",
       "    </tr>\n",
       "    <tr>\n",
       "      <th>2</th>\n",
       "      <td>Florence + The Machine</td>\n",
       "      <td>974</td>\n",
       "    </tr>\n",
       "    <tr>\n",
       "      <th>3</th>\n",
       "      <td>BjÃÂ¶rk</td>\n",
       "      <td>932</td>\n",
       "    </tr>\n",
       "    <tr>\n",
       "      <th>4</th>\n",
       "      <td>The Black Keys</td>\n",
       "      <td>899</td>\n",
       "    </tr>\n",
       "    <tr>\n",
       "      <th>5</th>\n",
       "      <td>Dwight Yoakam</td>\n",
       "      <td>899</td>\n",
       "    </tr>\n",
       "    <tr>\n",
       "      <th>6</th>\n",
       "      <td>Muse</td>\n",
       "      <td>898</td>\n",
       "    </tr>\n",
       "    <tr>\n",
       "      <th>7</th>\n",
       "      <td>Justin Bieber</td>\n",
       "      <td>862</td>\n",
       "    </tr>\n",
       "    <tr>\n",
       "      <th>8</th>\n",
       "      <td>Jack Johnson</td>\n",
       "      <td>835</td>\n",
       "    </tr>\n",
       "    <tr>\n",
       "      <th>9</th>\n",
       "      <td>Eminem</td>\n",
       "      <td>780</td>\n",
       "    </tr>\n",
       "  </tbody>\n",
       "</table>\n",
       "</div>"
      ],
      "text/plain": [
       "                   artist  total_count\n",
       "0                Coldplay         1494\n",
       "1           Kings Of Leon         1484\n",
       "2  Florence + The Machine          974\n",
       "3                BjÃÂ¶rk          932\n",
       "4          The Black Keys          899\n",
       "5           Dwight Yoakam          899\n",
       "6                    Muse          898\n",
       "7           Justin Bieber          862\n",
       "8            Jack Johnson          835\n",
       "9                  Eminem          780"
      ]
     },
     "execution_count": 92,
     "metadata": {},
     "output_type": "execute_result"
    }
   ],
   "source": [
    "#get paid users top 10 artists and their counts\n",
    "paid_top_artists = df.filter((df.page==\"NextSong\") & (df.level==\"paid\")) \\\n",
    "                    .groupby(\"artist\").agg(count(\"artist\").alias(\"total_count\")).sort(col(\"total_count\").desc())\n",
    "\n",
    "paid_top_artists_pd = paid_top_artists.toPandas()\n",
    "paid_top_artists_pd = paid_top_artists_pd.head(10)\n",
    "paid_top_artists_pd"
   ]
  },
  {
   "cell_type": "markdown",
   "metadata": {},
   "source": [
    "Let's plot the above to see the artists remained the same across and how the views changed between levels."
   ]
  },
  {
   "cell_type": "code",
   "execution_count": 126,
   "metadata": {},
   "outputs": [
    {
     "data": {
      "image/png": "[encoded data removed]",
      "text/plain": [
       "<matplotlib.figure.Figure at 0x7fd8e013aa58>"
      ]
     },
     "metadata": {
      "needs_background": "light"
     },
     "output_type": "display_data"
    }
   ],
   "source": [
    "plt.figure(figsize=(16,6))\n",
    "plt.plot(top_artists_pd[\"artist\"], top_artists_pd[\"total_count\"],'r')\n",
    "plt.plot(paid_top_artists_pd[\"artist\"], paid_top_artists_pd[\"total_count\"],'g')\n",
    "plt.plot(free_top_artists_pd[\"artist\"], free_top_artists_pd[\"total_count\"],'b')\n",
    "plt.legend(labels=[\"overall\",\"paid users\",\"free users\"])\n",
    "plt.xlabel(\"artist\")\n",
    "plt.ylabel(\"Total_no_of_times_played\");"
   ]
  },
  {
   "cell_type": "markdown",
   "metadata": {},
   "source": [
    "We see that there is no major change in the listening preferences between the free and paid users. In general, the number of times songs are listened by paid users is much higher than the free users implying higher engagement of the paid users with Sparkify."
   ]
  },
  {
   "cell_type": "markdown",
   "metadata": {},
   "source": [
    "## Identifying users who've Churned/Downgraded"
   ]
  },
  {
   "cell_type": "code",
   "execution_count": 19,
   "metadata": {},
   "outputs": [
    {
     "name": "stdout",
     "output_type": "stream",
     "text": [
      "+--------------------+\n",
      "|                page|\n",
      "+--------------------+\n",
      "|               About|\n",
      "|          Add Friend|\n",
      "|     Add to Playlist|\n",
      "|              Cancel|\n",
      "|Cancellation Conf...|\n",
      "|           Downgrade|\n",
      "|               Error|\n",
      "|                Help|\n",
      "|                Home|\n",
      "|              Logout|\n",
      "|            NextSong|\n",
      "|         Roll Advert|\n",
      "|       Save Settings|\n",
      "|            Settings|\n",
      "|    Submit Downgrade|\n",
      "|      Submit Upgrade|\n",
      "|         Thumbs Down|\n",
      "|           Thumbs Up|\n",
      "|             Upgrade|\n",
      "+--------------------+\n",
      "\n"
     ]
    }
   ],
   "source": [
    "#different Pages available in Sparkify\n",
    "df.select(\"page\").dropDuplicates().sort(\"page\").show(50)"
   ]
  },
  {
   "cell_type": "markdown",
   "metadata": {},
   "source": [
    "* The events causing the Churn is **Cancellation Conf..** \n",
    "* Similarly, event causing the downgrade is **Submit Downgrade**"
   ]
  },
  {
   "cell_type": "code",
   "execution_count": 93,
   "metadata": {},
   "outputs": [],
   "source": [
    "#create udf to check if action page is churn related\n",
    "churn_event = udf(lambda x: 1 if x ==\"Cancellation Confirmation\" else 0, IntegerType())"
   ]
  },
  {
   "cell_type": "code",
   "execution_count": 94,
   "metadata": {},
   "outputs": [],
   "source": [
    "#create column to identify churn users \n",
    "churn_users = df.filter(df.page==\"Cancellation Confirmation\").select(\"userId\").dropDuplicates()\n",
    "churn_users_list = [(row['userId']) for row in churn_users.collect()]\n",
    "df = df.withColumn(\"churn\", df.userId.isin(churn_users_list))"
   ]
  },
  {
   "cell_type": "code",
   "execution_count": 95,
   "metadata": {},
   "outputs": [],
   "source": [
    "#create udf to check if action page is downgrade related\n",
    "downgrade_event = udf(lambda x: 1 if x ==\"Submit Downgrade\" else 0, IntegerType())"
   ]
  },
  {
   "cell_type": "code",
   "execution_count": 96,
   "metadata": {},
   "outputs": [],
   "source": [
    "#create column to identify downgrade users\n",
    "downgrade_users = df.filter(df.page==\"Submit Downgrade\").select(\"userId\").dropDuplicates()\n",
    "downgrade_users_list = [(row['userId']) for row in downgrade_users.collect()]\n",
    "df = df.withColumn(\"downgrade\", df.userId.isin(downgrade_users_list))"
   ]
  },
  {
   "cell_type": "code",
   "execution_count": 14,
   "metadata": {},
   "outputs": [
    {
     "data": {
      "text/plain": [
       "[Row(artist=None, auth='Logged In', firstName='Kael', gender='M', itemInSession=47, lastName='Baker', length=None, level='paid', location='Kingsport-Bristol-Bristol, TN-VA', method='PUT', page='Submit Downgrade', registration=1533102330000, sessionId=249, song=None, status=307, ts=1538393619000, userAgent='\"Mozilla/5.0 (Macintosh; Intel Mac OS X 10_9_4) AppleWebKit/537.77.4 (KHTML, like Gecko) Version/7.0.5 Safari/537.77.4\"', userId='131', churn=False, downgrade=True),\n",
       " Row(artist=None, auth='Logged In', firstName='Calvin', gender='M', itemInSession=17, lastName='Marshall', length=None, level='paid', location='Pittsburgh, PA', method='PUT', page='Submit Downgrade', registration=1537120757000, sessionId=313, song=None, status=307, ts=1538516445000, userAgent='\"Mozilla/5.0 (Macintosh; Intel Mac OS X 10_9_4) AppleWebKit/537.78.2 (KHTML, like Gecko) Version/7.0.6 Safari/537.78.2\"', userId='38', churn=False, downgrade=True),\n",
       " Row(artist=None, auth='Logged In', firstName='Kaylenn', gender='F', itemInSession=354, lastName='Jenkins', length=None, level='paid', location='Price, UT', method='PUT', page='Submit Downgrade', registration=1535903878000, sessionId=479, song=None, status=307, ts=1538835479000, userAgent='\"Mozilla/5.0 (Macintosh; Intel Mac OS X 10_9_2) AppleWebKit/537.74.9 (KHTML, like Gecko) Version/7.0.2 Safari/537.74.9\"', userId='141', churn=False, downgrade=True),\n",
       " Row(artist=None, auth='Logged In', firstName='Colin', gender='M', itemInSession=214, lastName='Freeman', length=None, level='paid', location='Bakersfield, CA', method='PUT', page='Submit Downgrade', registration=1538173362000, sessionId=532, song=None, status=307, ts=1538995454000, userAgent='Mozilla/5.0 (Windows NT 6.1; WOW64; rv:31.0) Gecko/20100101 Firefox/31.0', userId='30', churn=False, downgrade=True),\n",
       " Row(artist=None, auth='Logged In', firstName='Destiny', gender='F', itemInSession=2, lastName='Herring', length=None, level='paid', location='Miami-Fort Lauderdale-West Palm Beach, FL', method='PUT', page='Submit Downgrade', registration=1536844410000, sessionId=378, song=None, status=307, ts=1538997356000, userAgent='\"Mozilla/5.0 (Windows NT 6.1; WOW64) AppleWebKit/537.36 (KHTML, like Gecko) Chrome/36.0.1985.143 Safari/537.36\"', userId='20', churn=False, downgrade=True)]"
      ]
     },
     "execution_count": 14,
     "metadata": {},
     "output_type": "execute_result"
    }
   ],
   "source": [
    "#sanity check\n",
    "df.where(df.page==\"Submit Downgrade\").take(5)"
   ]
  },
  {
   "cell_type": "code",
   "execution_count": 25,
   "metadata": {},
   "outputs": [
    {
     "name": "stdout",
     "output_type": "stream",
     "text": [
      "+------+-----+-----+\n",
      "|gender|churn|count|\n",
      "+------+-----+-----+\n",
      "|     F|false|   84|\n",
      "|     M|false|   89|\n",
      "|     M| true|   32|\n",
      "|     F| true|   20|\n",
      "+------+-----+-----+\n",
      "\n"
     ]
    }
   ],
   "source": [
    "#count of churned users by gender\n",
    "df.dropDuplicates(['gender','userid']).groupby('gender','churn').count().sort('churn').show()"
   ]
  },
  {
   "cell_type": "markdown",
   "metadata": {},
   "source": [
    "### Compare churned users behaviour with non-churn users"
   ]
  },
  {
   "cell_type": "markdown",
   "metadata": {},
   "source": [
    "#### Compare Song counts for different week days"
   ]
  },
  {
   "cell_type": "code",
   "execution_count": 97,
   "metadata": {},
   "outputs": [],
   "source": [
    "get_weekday = udf(lambda x: datetime.datetime.fromtimestamp(x / 1000.0).strftime(\"%w\"))\n",
    "df = df.withColumn(\"weekday\", get_weekday(df.ts))"
   ]
  },
  {
   "cell_type": "code",
   "execution_count": 98,
   "metadata": {},
   "outputs": [],
   "source": [
    "#create Churn and non_churn Pandas df for plots\n",
    "df_churn = df.where('churn=1')\n",
    "df_nonchurn = df.where('churn=0')"
   ]
  },
  {
   "cell_type": "code",
   "execution_count": 99,
   "metadata": {},
   "outputs": [],
   "source": [
    "#get song counts for churn and non_churn users by day\n",
    "df_weekday_pd = df['gender','page','userid','churn','weekday'].filter(df.page == 'NextSong') \\\n",
    "                            .groupby('churn', 'weekday').count().orderBy(df['weekday'].cast('float')).toPandas()\n",
    "df_weekday_churn_pd = df_weekday_pd[df_weekday_pd['churn']==1]\n",
    "df_weekday_nonchurn_pd = df_weekday_pd[df_weekday_pd['churn']==0]"
   ]
  },
  {
   "cell_type": "code",
   "execution_count": 29,
   "metadata": {},
   "outputs": [
    {
     "data": {
      "text/html": [
       "<div>\n",
       "<style scoped>\n",
       "    .dataframe tbody tr th:only-of-type {\n",
       "        vertical-align: middle;\n",
       "    }\n",
       "\n",
       "    .dataframe tbody tr th {\n",
       "        vertical-align: top;\n",
       "    }\n",
       "\n",
       "    .dataframe thead th {\n",
       "        text-align: right;\n",
       "    }\n",
       "</style>\n",
       "<table border=\"1\" class=\"dataframe\">\n",
       "  <thead>\n",
       "    <tr style=\"text-align: right;\">\n",
       "      <th></th>\n",
       "      <th>churn</th>\n",
       "      <th>weekday</th>\n",
       "      <th>count</th>\n",
       "    </tr>\n",
       "  </thead>\n",
       "  <tbody>\n",
       "    <tr>\n",
       "      <th>0</th>\n",
       "      <td>True</td>\n",
       "      <td>0</td>\n",
       "      <td>2004</td>\n",
       "    </tr>\n",
       "    <tr>\n",
       "      <th>1</th>\n",
       "      <td>False</td>\n",
       "      <td>0</td>\n",
       "      <td>15366</td>\n",
       "    </tr>\n",
       "    <tr>\n",
       "      <th>2</th>\n",
       "      <td>False</td>\n",
       "      <td>1</td>\n",
       "      <td>29767</td>\n",
       "    </tr>\n",
       "    <tr>\n",
       "      <th>3</th>\n",
       "      <td>True</td>\n",
       "      <td>1</td>\n",
       "      <td>5606</td>\n",
       "    </tr>\n",
       "    <tr>\n",
       "      <th>4</th>\n",
       "      <td>False</td>\n",
       "      <td>2</td>\n",
       "      <td>32633</td>\n",
       "    </tr>\n",
       "    <tr>\n",
       "      <th>5</th>\n",
       "      <td>True</td>\n",
       "      <td>2</td>\n",
       "      <td>6197</td>\n",
       "    </tr>\n",
       "    <tr>\n",
       "      <th>6</th>\n",
       "      <td>True</td>\n",
       "      <td>3</td>\n",
       "      <td>5969</td>\n",
       "    </tr>\n",
       "    <tr>\n",
       "      <th>7</th>\n",
       "      <td>False</td>\n",
       "      <td>3</td>\n",
       "      <td>31706</td>\n",
       "    </tr>\n",
       "    <tr>\n",
       "      <th>8</th>\n",
       "      <td>False</td>\n",
       "      <td>4</td>\n",
       "      <td>30037</td>\n",
       "    </tr>\n",
       "    <tr>\n",
       "      <th>9</th>\n",
       "      <td>True</td>\n",
       "      <td>4</td>\n",
       "      <td>6263</td>\n",
       "    </tr>\n",
       "    <tr>\n",
       "      <th>10</th>\n",
       "      <td>False</td>\n",
       "      <td>5</td>\n",
       "      <td>32905</td>\n",
       "    </tr>\n",
       "    <tr>\n",
       "      <th>11</th>\n",
       "      <td>True</td>\n",
       "      <td>5</td>\n",
       "      <td>6609</td>\n",
       "    </tr>\n",
       "    <tr>\n",
       "      <th>12</th>\n",
       "      <td>True</td>\n",
       "      <td>6</td>\n",
       "      <td>3746</td>\n",
       "    </tr>\n",
       "    <tr>\n",
       "      <th>13</th>\n",
       "      <td>False</td>\n",
       "      <td>6</td>\n",
       "      <td>19300</td>\n",
       "    </tr>\n",
       "  </tbody>\n",
       "</table>\n",
       "</div>"
      ],
      "text/plain": [
       "    churn weekday  count\n",
       "0    True       0   2004\n",
       "1   False       0  15366\n",
       "2   False       1  29767\n",
       "3    True       1   5606\n",
       "4   False       2  32633\n",
       "5    True       2   6197\n",
       "6    True       3   5969\n",
       "7   False       3  31706\n",
       "8   False       4  30037\n",
       "9    True       4   6263\n",
       "10  False       5  32905\n",
       "11   True       5   6609\n",
       "12   True       6   3746\n",
       "13  False       6  19300"
      ]
     },
     "execution_count": 29,
     "metadata": {},
     "output_type": "execute_result"
    }
   ],
   "source": [
    "df_weekday_pd.head(20)"
   ]
  },
  {
   "cell_type": "code",
   "execution_count": 30,
   "metadata": {},
   "outputs": [
    {
     "data": {
      "image/png": "[encoded data removed]",
      "text/plain": [
       "<matplotlib.figure.Figure at 0x7f2197d33fd0>"
      ]
     },
     "metadata": {
      "needs_background": "light"
     },
     "output_type": "display_data"
    },
    {
     "data": {
      "image/png": "[encoded data removed]",
      "text/plain": [
       "<matplotlib.figure.Figure at 0x7f21955d2358>"
      ]
     },
     "metadata": {
      "needs_background": "light"
     },
     "output_type": "display_data"
    }
   ],
   "source": [
    "df_weekday_nonchurn_pd.plot(x=\"weekday\",y=\"count\",color='Blue',label='NonChurn')\n",
    "df_weekday_churn_pd.plot(x=\"weekday\",y=\"count\",color='Red', label='Churn');"
   ]
  },
  {
   "cell_type": "markdown",
   "metadata": {},
   "source": [
    "Both Churna and Non-Churn users generally have a consistent listening counts with highs during weekdays."
   ]
  },
  {
   "cell_type": "markdown",
   "metadata": {},
   "source": [
    "# Feature Engineering"
   ]
  },
  {
   "cell_type": "markdown",
   "metadata": {},
   "source": [
    "In order to build our model, let's engineer a few features which we think may play a significant factor in deciding whether a user may churn or not."
   ]
  },
  {
   "cell_type": "markdown",
   "metadata": {},
   "source": [
    "**Feature 1:** Average number of songs listened by a user in each session\n",
    "* Hypothesis: If a user is there for longer duration in each session he/she will see more value and benefits of Sparkify and is less likely to churn *"
   ]
  },
  {
   "cell_type": "code",
   "execution_count": 100,
   "metadata": {},
   "outputs": [],
   "source": [
    "user_session_songcount = df.select('userId','page','sessionId').filter(df.page == 'NextSong') \\\n",
    "                            .groupby('userId','sessionId').count()\n",
    "feature1_songs_session = user_session_songcount.groupby(\"userId\").agg(round(avg('count'),2) \\\n",
    "                                                                        .alias('songs_per_session'))"
   ]
  },
  {
   "cell_type": "code",
   "execution_count": 101,
   "metadata": {},
   "outputs": [
    {
     "name": "stdout",
     "output_type": "stream",
     "text": [
      "+------+-----------------+\n",
      "|userId|songs_per_session|\n",
      "+------+-----------------+\n",
      "|100010|            39.29|\n",
      "|200002|             64.5|\n",
      "|   125|              8.0|\n",
      "|    51|            211.1|\n",
      "|   124|           145.68|\n",
      "+------+-----------------+\n",
      "only showing top 5 rows\n",
      "\n"
     ]
    }
   ],
   "source": [
    "feature1_songs_session.show(5)"
   ]
  },
  {
   "cell_type": "markdown",
   "metadata": {},
   "source": [
    "**Feature 2:** Total number of sessions of a user\n",
    "* Hypothesis: If the user is less frequent on the platform, he/she will probably churn *"
   ]
  },
  {
   "cell_type": "code",
   "execution_count": 102,
   "metadata": {},
   "outputs": [
    {
     "name": "stdout",
     "output_type": "stream",
     "text": [
      "+------+-------------+\n",
      "|userId|session_count|\n",
      "+------+-------------+\n",
      "|100010|            7|\n",
      "|200002|            6|\n",
      "|   125|            1|\n",
      "|    51|           10|\n",
      "|   124|           29|\n",
      "+------+-------------+\n",
      "only showing top 5 rows\n",
      "\n"
     ]
    }
   ],
   "source": [
    "feature2_session_count = df.select('userId','sessionId').dropDuplicates().groupby('userId').count() \\\n",
    "                                    .withColumnRenamed('count','session_count')\n",
    "feature2_session_count.show(5)"
   ]
  },
  {
   "cell_type": "markdown",
   "metadata": {},
   "source": [
    "**Feature 3:** Average number of different Pages visited in each session"
   ]
  },
  {
   "cell_type": "code",
   "execution_count": 103,
   "metadata": {},
   "outputs": [],
   "source": [
    "user_session_pagecount = df.select('userId','page','sessionId').dropDuplicates() \\\n",
    "                                .groupby('userId','sessionId').count()\n",
    "feature3_page_session = user_session_pagecount.groupby(\"userId\") \\\n",
    "                                                .agg(round(avg('count'),2).alias('pages_per_session'))"
   ]
  },
  {
   "cell_type": "code",
   "execution_count": 104,
   "metadata": {},
   "outputs": [
    {
     "name": "stdout",
     "output_type": "stream",
     "text": [
      "+------+-----------------+\n",
      "|userId|pages_per_session|\n",
      "+------+-----------------+\n",
      "|100010|             6.71|\n",
      "|200002|              7.5|\n",
      "|   125|              4.0|\n",
      "|    51|              8.5|\n",
      "|   124|             7.38|\n",
      "+------+-----------------+\n",
      "only showing top 5 rows\n",
      "\n"
     ]
    }
   ],
   "source": [
    "feature3_page_session.show(5)"
   ]
  },
  {
   "cell_type": "markdown",
   "metadata": {},
   "source": [
    "**Feature 4:** Gender of user\n",
    "\n",
    "* It is important to check if Sparkify has any gender related affinity from any particular gender. \n",
    "* We will encode the Gender values into 1s and 0s"
   ]
  },
  {
   "cell_type": "code",
   "execution_count": 105,
   "metadata": {},
   "outputs": [
    {
     "name": "stdout",
     "output_type": "stream",
     "text": [
      "+------+------+\n",
      "|userId|gender|\n",
      "+------+------+\n",
      "|    44|     0|\n",
      "|    46|     0|\n",
      "|    41|     0|\n",
      "|    72|     0|\n",
      "|300023|     0|\n",
      "+------+------+\n",
      "only showing top 5 rows\n",
      "\n"
     ]
    }
   ],
   "source": [
    "feature4_gender = df.select('userId','gender').dropDuplicates() \\\n",
    "                    .replace(['M','F'],['1','0'],'gender')\n",
    "feature4_gender = feature4_gender.select(\"userId\", feature4_gender.gender.cast(\"int\"))\n",
    "feature4_gender.show(5)"
   ]
  },
  {
   "cell_type": "markdown",
   "metadata": {},
   "source": [
    "**Feature 5:** Current User level - Paid or free\n",
    "* Hypothesis: User is likely to stay longer if the user is a paid user"
   ]
  },
  {
   "cell_type": "code",
   "execution_count": 106,
   "metadata": {},
   "outputs": [
    {
     "data": {
      "text/plain": [
       "DataFrame[artist: string, auth: string, firstName: string, gender: string, itemInSession: bigint, lastName: string, length: double, level: string, location: string, method: string, page: string, registration: bigint, sessionId: bigint, song: string, status: bigint, ts: bigint, userAgent: string, userId: string, churn: boolean, downgrade: boolean, weekday: string]"
      ]
     },
     "execution_count": 106,
     "metadata": {},
     "output_type": "execute_result"
    }
   ],
   "source": [
    "df.persist()"
   ]
  },
  {
   "cell_type": "code",
   "execution_count": 107,
   "metadata": {},
   "outputs": [
    {
     "name": "stdout",
     "output_type": "stream",
     "text": [
      "+------+-----+\n",
      "|userId|level|\n",
      "+------+-----+\n",
      "|100021|    0|\n",
      "|200001|    0|\n",
      "|300022|    1|\n",
      "|   112|    0|\n",
      "|200007|    1|\n",
      "+------+-----+\n",
      "only showing top 5 rows\n",
      "\n"
     ]
    }
   ],
   "source": [
    "user_last_time = df.groupby('userId').agg(max('ts').alias('ts'))\n",
    "feature5_level = user_last_time.join(df,on=['userId','ts'],how='left').select('userId','level').dropDuplicates() \\\n",
    "                                    .replace(['paid','free'],['1','0'],'level')\n",
    "feature5_level = feature5_level.select(\"userId\", feature5_level.level.cast(\"int\"))\n",
    "feature5_level.show(5)"
   ]
  },
  {
   "cell_type": "markdown",
   "metadata": {},
   "source": [
    "**Feature 6:** Average session time for a user\n",
    "* Hypothesis: More the average session time for a user, he'she is less likely to churn from the platform."
   ]
  },
  {
   "cell_type": "code",
   "execution_count": 108,
   "metadata": {},
   "outputs": [
    {
     "name": "stdout",
     "output_type": "stream",
     "text": [
      "+------+----------------+\n",
      "|userId|avg_session_time|\n",
      "+------+----------------+\n",
      "|100010|          154.48|\n",
      "|200002|           266.4|\n",
      "|   125|           29.57|\n",
      "|    51|          872.36|\n",
      "|   124|          578.99|\n",
      "+------+----------------+\n",
      "only showing top 5 rows\n",
      "\n"
     ]
    }
   ],
   "source": [
    "avg_session = df.groupby('userId','sessionId').agg(round(((max('ts')-min('ts'))/(1000*60)),2) \\\n",
    "                                                    .alias('session_time')).dropDuplicates()\n",
    "feature6_avg_session_time = avg_session.groupby('userId').agg(round(avg('session_time'),2).alias('avg_session_time'))\n",
    "feature6_avg_session_time.show(5)                                                    "
   ]
  },
  {
   "cell_type": "markdown",
   "metadata": {},
   "source": [
    "**Feature 7:** Number of times user visited different pages in total\n",
    "* Hypothesis: The way user browses different pages on Sparkify may give us some insight into which users will churn depending on the different pages he chooses to access."
   ]
  },
  {
   "cell_type": "code",
   "execution_count": 109,
   "metadata": {},
   "outputs": [
    {
     "name": "stdout",
     "output_type": "stream",
     "text": [
      "+--------------------+\n",
      "|                page|\n",
      "+--------------------+\n",
      "|              Cancel|\n",
      "|    Submit Downgrade|\n",
      "|         Thumbs Down|\n",
      "|                Home|\n",
      "|           Downgrade|\n",
      "|         Roll Advert|\n",
      "|              Logout|\n",
      "|       Save Settings|\n",
      "|Cancellation Conf...|\n",
      "|               About|\n",
      "|            Settings|\n",
      "|     Add to Playlist|\n",
      "|          Add Friend|\n",
      "|            NextSong|\n",
      "|           Thumbs Up|\n",
      "|                Help|\n",
      "|             Upgrade|\n",
      "|               Error|\n",
      "|      Submit Upgrade|\n",
      "+--------------------+\n",
      "\n"
     ]
    }
   ],
   "source": [
    "#check all page names available\n",
    "df.select('page').dropDuplicates().show()"
   ]
  },
  {
   "cell_type": "markdown",
   "metadata": {},
   "source": [
    "We will create features only for those Pages which are generic and **NOT** one time in nature, like Downgrade, or Cancellation."
   ]
  },
  {
   "cell_type": "code",
   "execution_count": 110,
   "metadata": {},
   "outputs": [
    {
     "name": "stdout",
     "output_type": "stream",
     "text": [
      "+------+-----------------+\n",
      "|userId|thumbs_down_count|\n",
      "+------+-----------------+\n",
      "|100010|                5|\n",
      "|200002|                6|\n",
      "|    51|               21|\n",
      "|   124|               41|\n",
      "|     7|                1|\n",
      "+------+-----------------+\n",
      "only showing top 5 rows\n",
      "\n"
     ]
    }
   ],
   "source": [
    "feature7_thumbs_down = df.where(df.page=='Thumbs Down').groupby('userId').count() \\\n",
    "                            .withColumnRenamed('count','thumbs_down_count')\n",
    "feature7_thumbs_down.show(5)"
   ]
  },
  {
   "cell_type": "code",
   "execution_count": 111,
   "metadata": {},
   "outputs": [],
   "source": [
    "feature7_thumbs_up = df.where(df.page=='Thumbs Up').groupby('userId').count() \\\n",
    "                            .withColumnRenamed('count','thumbs_up_count')\n",
    "feature7_home = df.where(df.page=='Home').groupby('userId').count() \\\n",
    "                            .withColumnRenamed('count','home_count')\n",
    "feature7_roll_advert = df.where(df.page=='Roll Advert').groupby('userId').count() \\\n",
    "                            .withColumnRenamed('count','roll_advert_count')\n",
    "feature7_logout = df.where(df.page=='Logout').groupby('userId').count() \\\n",
    "                            .withColumnRenamed('count','logout_count')\n",
    "feature7_save_settings = df.where(df.page=='Save Settings').groupby('userId').count() \\\n",
    "                            .withColumnRenamed('count','save_settings_count')\n",
    "feature7_settings = df.where(df.page=='Settings').groupby('userId').count() \\\n",
    "                            .withColumnRenamed('count','settings_count')\n",
    "feature7_about = df.where(df.page=='About').groupby('userId').count() \\\n",
    "                            .withColumnRenamed('count','about_count')\n",
    "feature7_add_to_playlist = df.where(df.page=='Add to Playlist').groupby('userId').count() \\\n",
    "                            .withColumnRenamed('count','add_to_playlist_count')\n",
    "feature7_add_friend = df.where(df.page=='Add Friend').groupby('userId').count() \\\n",
    "                            .withColumnRenamed('count','add_friend_count')\n",
    "feature7_nextsong = df.where(df.page=='NextSong').groupby('userId').count() \\\n",
    "                            .withColumnRenamed('count','nextsong_count')\n",
    "feature7_help = df.where(df.page=='Help').groupby('userId').count() \\\n",
    "                            .withColumnRenamed('count','help_count')\n",
    "feature7_error = df.where(df.page=='Error').groupby('userId').count() \\\n",
    "                            .withColumnRenamed('count','error_count')"
   ]
  },
  {
   "cell_type": "markdown",
   "metadata": {},
   "source": [
    "**Feature 8:** If a user has downgraded\n",
    "* Hypothesis: A downgraded user is more likely to churn."
   ]
  },
  {
   "cell_type": "code",
   "execution_count": 124,
   "metadata": {},
   "outputs": [
    {
     "name": "stdout",
     "output_type": "stream",
     "text": [
      "+------+----------+\n",
      "|userId|downgraded|\n",
      "+------+----------+\n",
      "|    73|         0|\n",
      "|    19|         0|\n",
      "|200007|         0|\n",
      "|    25|         1|\n",
      "|    50|         0|\n",
      "+------+----------+\n",
      "only showing top 5 rows\n",
      "\n"
     ]
    }
   ],
   "source": [
    "feature8_downgrade = df.select('userId','downgrade').dropDuplicates() \\\n",
    "                        .withColumn('downgraded',when(df.downgrade == True, 1).otherwise(0)) \\\n",
    "                        .select('userId','downgraded')\n",
    "feature8_downgrade.show(5)"
   ]
  },
  {
   "cell_type": "markdown",
   "metadata": {},
   "source": [
    "As we cannot replace Boolean values with 1s and 0s, we have created a new column for our feature based on Downgrade column."
   ]
  },
  {
   "cell_type": "markdown",
   "metadata": {},
   "source": [
    "**Feature 9:** Average time between sessions\n",
    "* Hypothesis: More the average time between sessions, higher the chances of churn."
   ]
  },
  {
   "cell_type": "code",
   "execution_count": 207,
   "metadata": {},
   "outputs": [],
   "source": [
    "my_window = Window.partitionBy('userId').orderBy('userId','sessionId')"
   ]
  },
  {
   "cell_type": "code",
   "execution_count": 208,
   "metadata": {},
   "outputs": [
    {
     "name": "stdout",
     "output_type": "stream",
     "text": [
      "+------+---------+--------------+\n",
      "|userId|sessionId|session_min_ts|\n",
      "+------+---------+--------------+\n",
      "|    92|      358| 1538585349000|\n",
      "|    42|      433| 1538683105000|\n",
      "|   101|      635| 1539065365000|\n",
      "|   120|      627| 1539180886000|\n",
      "|   140|      798| 1539424555000|\n",
      "+------+---------+--------------+\n",
      "only showing top 5 rows\n",
      "\n"
     ]
    }
   ],
   "source": [
    "session_min_ts = df.groupby('userId','sessionId').agg(min('ts').alias('session_min_ts'))\n",
    "session_min_ts.show(5)\n"
   ]
  },
  {
   "cell_type": "code",
   "execution_count": 213,
   "metadata": {},
   "outputs": [
    {
     "name": "stdout",
     "output_type": "stream",
     "text": [
      "+------+---------+--------------+-------------------+\n",
      "|userId|sessionId|session_min_ts|prev_session_min_ts|\n",
      "+------+---------+--------------+-------------------+\n",
      "|100010|       78| 1539603322000|      1539003534000|\n",
      "|100010|      113| 1539699018000|      1539603322000|\n",
      "|100010|      118| 1540045112000|      1539699018000|\n",
      "|100010|      133| 1541411290000|      1540045112000|\n",
      "|100010|      174| 1541731560000|      1541411290000|\n",
      "+------+---------+--------------+-------------------+\n",
      "only showing top 5 rows\n",
      "\n"
     ]
    }
   ],
   "source": [
    "p_ses_info = session_min_ts.withColumn(\"prev_session_min_ts\", lag('session_min_ts').over(my_window))\n",
    "p_ses_info = p_ses_info.dropna()\n",
    "p_ses_info.show(5)"
   ]
  },
  {
   "cell_type": "code",
   "execution_count": 259,
   "metadata": {},
   "outputs": [
    {
     "name": "stdout",
     "output_type": "stream",
     "text": [
      "+------+---------------+\n",
      "|userId|avg_time_bw_ses|\n",
      "+------+---------------+\n",
      "|100010|          176.6|\n",
      "|200002|         216.73|\n",
      "|   124|          51.43|\n",
      "|    51|          40.89|\n",
      "|     7|         203.13|\n",
      "+------+---------------+\n",
      "only showing top 5 rows\n",
      "\n"
     ]
    }
   ],
   "source": [
    "time_between_sessions = p_ses_info.withColumn(\"time_bw_ses\", round((p_ses_info.session_min_ts - p_ses_info.prev_session_min_ts)/(1000*60*60),2))\n",
    "feature9_time_between_sessions = time_between_sessions.groupby('userId').agg(round(avg('time_bw_ses'),2).alias('avg_time_bw_ses'))\n",
    "feature9_time_between_sessions.show(5)"
   ]
  },
  {
   "cell_type": "markdown",
   "metadata": {},
   "source": [
    "**Feature 10:** Ratio of average time between sessions during later stages vs initial stages\n",
    "* Hypothesis: Building on previous point, while average gives a good idea of the frequency of a user coming to Sparkify, it will not tell us if the user has recently started to become frequent or less frequent. This may give us some insight if the user is going to churn."
   ]
  },
  {
   "cell_type": "code",
   "execution_count": 281,
   "metadata": {
    "scrolled": true
   },
   "outputs": [
    {
     "name": "stdout",
     "output_type": "stream",
     "text": [
      "+------+---------+--------------+-------------------+-----------+------------+\n",
      "|userId|sessionId|session_min_ts|prev_session_min_ts|time_bw_ses|session_rank|\n",
      "+------+---------+--------------+-------------------+-----------+------------+\n",
      "|100010|       78| 1539603322000|      1539003534000|     166.61|           1|\n",
      "|100010|      113| 1539699018000|      1539603322000|      26.58|           2|\n",
      "|100010|      118| 1540045112000|      1539699018000|      96.14|           3|\n",
      "|100010|      133| 1541411290000|      1540045112000|     379.49|           4|\n",
      "|100010|      174| 1541731560000|      1541411290000|      88.96|           5|\n",
      "|100010|      187| 1542818132000|      1541731560000|     301.83|           6|\n",
      "|200002|       44| 1538501988000|      1538393430000|      30.16|           1|\n",
      "|200002|      114| 1539708704000|      1538501988000|      335.2|           2|\n",
      "|200002|      163| 1539847677000|      1539708704000|       38.6|           3|\n",
      "|200002|      174| 1540235331000|      1539847677000|     107.68|           4|\n",
      "+------+---------+--------------+-------------------+-----------+------------+\n",
      "only showing top 10 rows\n",
      "\n"
     ]
    }
   ],
   "source": [
    "#create session ranks for each user\n",
    "time_between_sessions_ranks = time_between_sessions.withColumn(\"session_rank\",dense_rank().over(my_window))\n",
    "time_between_sessions_ranks.show(10)"
   ]
  },
  {
   "cell_type": "code",
   "execution_count": 282,
   "metadata": {},
   "outputs": [
    {
     "name": "stdout",
     "output_type": "stream",
     "text": [
      "+------+---------+--------------+-------------------+-----------+------------+--------+\n",
      "|userId|sessionId|session_min_ts|prev_session_min_ts|time_bw_ses|session_rank|mid_rank|\n",
      "+------+---------+--------------+-------------------+-----------+------------+--------+\n",
      "|100010|       78| 1539603322000|      1539003534000|     166.61|           1|       3|\n",
      "|100010|      113| 1539699018000|      1539603322000|      26.58|           2|       3|\n",
      "|100010|      118| 1540045112000|      1539699018000|      96.14|           3|       3|\n",
      "|100010|      133| 1541411290000|      1540045112000|     379.49|           4|       3|\n",
      "|100010|      174| 1541731560000|      1541411290000|      88.96|           5|       3|\n",
      "|100010|      187| 1542818132000|      1541731560000|     301.83|           6|       3|\n",
      "|200002|       44| 1538501988000|      1538393430000|      30.16|           1|       3|\n",
      "|200002|      114| 1539708704000|      1538501988000|      335.2|           2|       3|\n",
      "|200002|      163| 1539847677000|      1539708704000|       38.6|           3|       3|\n",
      "|200002|      174| 1540235331000|      1539847677000|     107.68|           4|       3|\n",
      "+------+---------+--------------+-------------------+-----------+------------+--------+\n",
      "only showing top 10 rows\n",
      "\n"
     ]
    }
   ],
   "source": [
    "#create mid rank value column\n",
    "user_mid_rank = time_between_sessions_ranks.groupby('userId').agg((ceil(max('session_rank')/2)).alias('mid_rank'))\n",
    "time_between_sessions_ranks = time_between_sessions_ranks.join(user_mid_rank,on='userId',how='left')\n",
    "time_between_sessions_ranks.show(10)"
   ]
  },
  {
   "cell_type": "code",
   "execution_count": 274,
   "metadata": {},
   "outputs": [
    {
     "name": "stdout",
     "output_type": "stream",
     "text": [
      "+------+---------+--------------+-------------------+-----------+------------+--------+-------+\n",
      "|userId|sessionId|session_min_ts|prev_session_min_ts|time_bw_ses|session_rank|mid_rank|  stage|\n",
      "+------+---------+--------------+-------------------+-----------+------------+--------+-------+\n",
      "|100010|       78| 1539603322000|      1539003534000|     166.61|           1|       3|initial|\n",
      "|100010|      113| 1539699018000|      1539603322000|      26.58|           2|       3|initial|\n",
      "|100010|      118| 1540045112000|      1539699018000|      96.14|           3|       3|initial|\n",
      "|100010|      133| 1541411290000|      1540045112000|     379.49|           4|       3| recent|\n",
      "|100010|      174| 1541731560000|      1541411290000|      88.96|           5|       3| recent|\n",
      "|100010|      187| 1542818132000|      1541731560000|     301.83|           6|       3| recent|\n",
      "|200002|       44| 1538501988000|      1538393430000|      30.16|           1|       3|initial|\n",
      "|200002|      114| 1539708704000|      1538501988000|      335.2|           2|       3|initial|\n",
      "|200002|      163| 1539847677000|      1539708704000|       38.6|           3|       3|initial|\n",
      "|200002|      174| 1540235331000|      1539847677000|     107.68|           4|       3| recent|\n",
      "+------+---------+--------------+-------------------+-----------+------------+--------+-------+\n",
      "only showing top 10 rows\n",
      "\n"
     ]
    }
   ],
   "source": [
    "#add stage column to indicate if the session is initial or recent\n",
    "time_between_sessions_stage = time_between_sessions_ranks.withColumn(\"stage\",when(time_between_sessions_ranks.session_rank <= time_between_sessions_ranks.mid_rank,'initial') \\\n",
    "                                                    .otherwise('recent'))\n",
    "time_between_sessions_stage.show(10)\n"
   ]
  },
  {
   "cell_type": "code",
   "execution_count": 284,
   "metadata": {},
   "outputs": [],
   "source": [
    "#create averages between sessions for initial stage and recent stages\n",
    "time_between_sessions_initial_avg = time_between_sessions_stage.where(time_between_sessions_stage.stage=='initial') \\\n",
    "                                                        .groupby('userId').agg(avg('time_bw_ses').alias('initial_avg'))\n",
    "time_between_sessions_recent_avg = time_between_sessions_stage.where(time_between_sessions_stage.stage=='recent') \\\n",
    "                                                        .groupby('userId').agg(avg('time_bw_ses').alias('recent_avg'))\n",
    "\n",
    "#join both dataframes created above\n",
    "time_between_sessions_all = time_between_sessions_initial_avg.join(time_between_sessions_recent_avg,on='userId',how='left')\n"
   ]
  },
  {
   "cell_type": "code",
   "execution_count": 303,
   "metadata": {},
   "outputs": [],
   "source": [
    "#create feature as needed\n",
    "time_between_sessions_all = time_between_sessions_all.withColumn('ratio_recent_to_initial_freq',round(time_between_sessions_all.recent_avg/time_between_sessions_all.initial_avg,2))\n",
    "\n",
    "feature10_ratio_recent_to_initial_freq = time_between_sessions_all.select('userId','ratio_recent_to_initial_freq')\n"
   ]
  },
  {
   "cell_type": "code",
   "execution_count": 304,
   "metadata": {},
   "outputs": [
    {
     "name": "stdout",
     "output_type": "stream",
     "text": [
      "+------+----------------------------+\n",
      "|userId|ratio_recent_to_initial_freq|\n",
      "+------+----------------------------+\n",
      "|100010|                        2.66|\n",
      "|200002|                        2.52|\n",
      "|   124|                        0.87|\n",
      "|    51|                        0.68|\n",
      "|     7|                        1.47|\n",
      "|    15|                        1.77|\n",
      "|    54|                        0.88|\n",
      "|   155|                        1.45|\n",
      "|100014|                        4.62|\n",
      "|   132|                        0.52|\n",
      "+------+----------------------------+\n",
      "only showing top 10 rows\n",
      "\n"
     ]
    }
   ],
   "source": [
    "feature10_ratio_recent_to_initial_freq.show(10)"
   ]
  },
  {
   "cell_type": "markdown",
   "metadata": {},
   "source": [
    "**Final Output Label: Churn**"
   ]
  },
  {
   "cell_type": "code",
   "execution_count": 305,
   "metadata": {},
   "outputs": [
    {
     "name": "stdout",
     "output_type": "stream",
     "text": [
      "+------+-------+\n",
      "|userId|churned|\n",
      "+------+-------+\n",
      "|    19|      0|\n",
      "|100005|      1|\n",
      "|200007|      0|\n",
      "|300007|      1|\n",
      "|    50|      0|\n",
      "+------+-------+\n",
      "only showing top 5 rows\n",
      "\n"
     ]
    }
   ],
   "source": [
    "df_final = df.select('userId','churn').dropDuplicates() \\\n",
    "                        .withColumn('churned',when(df.churn == True, '1').otherwise('0')).select('userId','churned')\n",
    "df_final = df_final.select(\"userId\", df_final.churned.cast(\"int\"))\n",
    "df_final.show(5)"
   ]
  },
  {
   "cell_type": "markdown",
   "metadata": {},
   "source": [
    "**Merge all features and final outcome label into one dataframe**"
   ]
  },
  {
   "cell_type": "code",
   "execution_count": 306,
   "metadata": {},
   "outputs": [
    {
     "data": {
      "text/plain": [
       "[DataFrame[userId: string, songs_per_session: double],\n",
       " DataFrame[userId: string, session_count: bigint],\n",
       " DataFrame[userId: string, pages_per_session: double],\n",
       " DataFrame[userId: string, gender: int],\n",
       " DataFrame[userId: string, level: int],\n",
       " DataFrame[userId: string, avg_session_time: double],\n",
       " DataFrame[userId: string, thumbs_down_count: bigint],\n",
       " DataFrame[userId: string, thumbs_up_count: bigint],\n",
       " DataFrame[userId: string, home_count: bigint],\n",
       " DataFrame[userId: string, roll_advert_count: bigint],\n",
       " DataFrame[userId: string, logout_count: bigint],\n",
       " DataFrame[userId: string, save_settings_count: bigint],\n",
       " DataFrame[userId: string, settings_count: bigint],\n",
       " DataFrame[userId: string, about_count: bigint],\n",
       " DataFrame[userId: string, add_to_playlist_count: bigint],\n",
       " DataFrame[userId: string, add_friend_count: bigint],\n",
       " DataFrame[userId: string, nextsong_count: bigint],\n",
       " DataFrame[userId: string, help_count: bigint],\n",
       " DataFrame[userId: string, error_count: bigint],\n",
       " DataFrame[userId: string, downgraded: int],\n",
       " DataFrame[userId: string, avg_time_bw_ses: double],\n",
       " DataFrame[userId: string, ratio_recent_to_initial_freq: double]]"
      ]
     },
     "execution_count": 306,
     "metadata": {},
     "output_type": "execute_result"
    }
   ],
   "source": [
    "#combine all features into one list\n",
    "features = []\n",
    "features.append(feature1_songs_session)\n",
    "features.append(feature2_session_count)\n",
    "features.append(feature3_page_session)\n",
    "features.append(feature4_gender)\n",
    "features.append(feature5_level)\n",
    "features.append(feature6_avg_session_time)\n",
    "features.append(feature7_thumbs_down)\n",
    "features.append(feature7_thumbs_up)\n",
    "features.append(feature7_home)\n",
    "features.append(feature7_roll_advert)\n",
    "features.append(feature7_logout)\n",
    "features.append(feature7_save_settings)\n",
    "features.append(feature7_settings)\n",
    "features.append(feature7_about)\n",
    "features.append(feature7_add_to_playlist)\n",
    "features.append(feature7_add_friend)\n",
    "features.append(feature7_nextsong)\n",
    "features.append(feature7_help)\n",
    "features.append(feature7_error)\n",
    "features.append(feature8_downgrade)\n",
    "features.append(feature9_time_between_sessions)\n",
    "features.append(feature10_ratio_recent_to_initial_freq)\n",
    "features"
   ]
  },
  {
   "cell_type": "code",
   "execution_count": 294,
   "metadata": {},
   "outputs": [],
   "source": [
    "def merge_dfs(df1,df2, common_column):\n",
    "    '''Merges two dfs \n",
    "    Input - Two Pyspark dataframes with a common column\n",
    "    Output - A merged Pyspark dataframe\n",
    "    '''\n",
    "    return df1.join(df2, common_column,how='left')"
   ]
  },
  {
   "cell_type": "code",
   "execution_count": 307,
   "metadata": {},
   "outputs": [],
   "source": [
    "for feature in features:\n",
    "    df_final = merge_dfs(df_final,feature,'userId')"
   ]
  },
  {
   "cell_type": "code",
   "execution_count": 308,
   "metadata": {},
   "outputs": [
    {
     "name": "stdout",
     "output_type": "stream",
     "text": [
      "+------+-------+-----------------+-------------+-----------------+------+-----+----------------+-----------------+---------------+----------+-----------------+------------+-------------------+--------------+-----------+---------------------+----------------+--------------+----------+-----------+----------+---------------+----------------------------+\n",
      "|userId|churned|songs_per_session|session_count|pages_per_session|gender|level|avg_session_time|thumbs_down_count|thumbs_up_count|home_count|roll_advert_count|logout_count|save_settings_count|settings_count|about_count|add_to_playlist_count|add_friend_count|nextsong_count|help_count|error_count|downgraded|avg_time_bw_ses|ratio_recent_to_initial_freq|\n",
      "+------+-------+-----------------+-------------+-----------------+------+-----+----------------+-----------------+---------------+----------+-----------------+------------+-------------------+--------------+-----------+---------------------+----------------+--------------+----------+-----------+----------+---------------+----------------------------+\n",
      "|100010|      0|            39.29|            7|             6.71|     0|    0|          154.48|                5|             17|        11|               52|           5|               null|          null|          1|                    7|               4|           275|         2|       null|         0|          176.6|                        2.66|\n",
      "|200002|      0|             64.5|            6|              7.5|     1|    1|           266.4|                6|             21|        20|                7|           5|               null|             3|          3|                    8|               4|           387|         2|       null|         0|         216.73|                        2.52|\n",
      "|   125|      1|              8.0|            1|              4.0|     1|    0|           29.57|             null|           null|      null|                1|        null|               null|          null|       null|                 null|            null|             8|      null|       null|         0|           null|                        null|\n",
      "|   124|      0|           145.68|           29|             7.38|     0|    1|          578.99|               41|            171|       176|                4|          59|                  6|            20|          7|                  118|              74|          4079|        23|          6|         0|          51.43|                        0.87|\n",
      "|    51|      1|            211.1|           10|              8.5|     1|    1|          872.36|               21|            100|        75|             null|          24|                  1|            12|          2|                   52|              28|          2111|        12|          1|         0|          40.89|                        0.68|\n",
      "+------+-------+-----------------+-------------+-----------------+------+-----+----------------+-----------------+---------------+----------+-----------------+------------+-------------------+--------------+-----------+---------------------+----------------+--------------+----------+-----------+----------+---------------+----------------------------+\n",
      "only showing top 5 rows\n",
      "\n"
     ]
    }
   ],
   "source": [
    "df_final.show(5)"
   ]
  },
  {
   "cell_type": "markdown",
   "metadata": {},
   "source": [
    "Let's remove all the duplicate rows, and also fill in all the NaN values with 0s. If you are wondering why we have NaNs, it's most likely because of features which may not be there for every user like the number of times every user visited each page."
   ]
  },
  {
   "cell_type": "code",
   "execution_count": 309,
   "metadata": {},
   "outputs": [
    {
     "data": {
      "text/plain": [
       "DataFrame[userId: string, churned: int, songs_per_session: double, session_count: bigint, pages_per_session: double, gender: int, level: int, avg_session_time: double, thumbs_down_count: bigint, thumbs_up_count: bigint, home_count: bigint, roll_advert_count: bigint, logout_count: bigint, save_settings_count: bigint, settings_count: bigint, about_count: bigint, add_to_playlist_count: bigint, add_friend_count: bigint, nextsong_count: bigint, help_count: bigint, error_count: bigint, downgraded: int, avg_time_bw_ses: double, ratio_recent_to_initial_freq: double]"
      ]
     },
     "execution_count": 309,
     "metadata": {},
     "output_type": "execute_result"
    }
   ],
   "source": [
    "df_final.persist()"
   ]
  },
  {
   "cell_type": "code",
   "execution_count": 310,
   "metadata": {},
   "outputs": [
    {
     "data": {
      "text/plain": [
       "225"
      ]
     },
     "execution_count": 310,
     "metadata": {},
     "output_type": "execute_result"
    }
   ],
   "source": [
    "df_final.select('userId').count() #size check"
   ]
  },
  {
   "cell_type": "code",
   "execution_count": 312,
   "metadata": {},
   "outputs": [],
   "source": [
    "#replace NaNs in dataframe with 0s\n",
    "df_final = df_final.na.fill(0)"
   ]
  },
  {
   "cell_type": "markdown",
   "metadata": {},
   "source": [
    "Save our dataframe as CSV for reading it easily later. Note that this is possible here only because of the small size of our dataset."
   ]
  },
  {
   "cell_type": "code",
   "execution_count": 313,
   "metadata": {},
   "outputs": [],
   "source": [
    "#save final df as a csv for future ready access\n",
    "df_final.write.save('df_final.csv', format=\"csv\", header=True, mode='overwrite')"
   ]
  },
  {
   "cell_type": "code",
   "execution_count": 11,
   "metadata": {},
   "outputs": [],
   "source": [
    "#specify schema for using while reading the csv into a dataframe\n",
    "schema = StructType([\n",
    "    StructField(\"userId\", StringType()),\n",
    "    StructField(\"churned\", IntegerType()),\n",
    "    StructField(\"songs_per_session\", DoubleType()),\n",
    "    StructField(\"session_count\", IntegerType()),\n",
    "    StructField(\"pages_per_session\", DoubleType()),\n",
    "    StructField(\"gender\", IntegerType()),\n",
    "    StructField(\"level\", IntegerType()),\n",
    "    StructField(\"avg_session_time\", DoubleType()),\n",
    "    StructField(\"thumbs_down_count\", IntegerType()),\n",
    "    StructField(\"thumbs_up_count\", IntegerType()),\n",
    "    StructField(\"home_count\", IntegerType()),\n",
    "    StructField(\"roll_advert_count\", IntegerType()),\n",
    "    StructField(\"logout_count\", IntegerType()),\n",
    "    StructField(\"save_settings_count\", IntegerType()),\n",
    "    StructField(\"settings_count\", IntegerType()),\n",
    "    StructField(\"about_count\", IntegerType()),\n",
    "    StructField(\"add_to_playlist_count\", IntegerType()),\n",
    "    StructField(\"add_friend_count\", IntegerType()),\n",
    "    StructField(\"nextsong_count\", IntegerType()),\n",
    "    StructField(\"help_count\", IntegerType()),\n",
    "    StructField(\"error_count\", IntegerType()),\n",
    "    StructField(\"downgraded\", IntegerType()),\n",
    "    StructField(\"avg_time_bw_ses\", DoubleType()),\n",
    "    StructField(\"ratio_recent_to_initial_freq\", DoubleType())\n",
    "                ])"
   ]
  },
  {
   "cell_type": "code",
   "execution_count": 12,
   "metadata": {},
   "outputs": [
    {
     "data": {
      "text/plain": [
       "DataFrame[userId: string, churned: int, songs_per_session: double, session_count: int, pages_per_session: double, gender: int, level: int, avg_session_time: double, thumbs_down_count: int, thumbs_up_count: int, home_count: int, roll_advert_count: int, logout_count: int, save_settings_count: int, settings_count: int, about_count: int, add_to_playlist_count: int, add_friend_count: int, nextsong_count: int, help_count: int, error_count: int, downgraded: int, avg_time_bw_ses: double, ratio_recent_to_initial_freq: double]"
      ]
     },
     "execution_count": 12,
     "metadata": {},
     "output_type": "execute_result"
    }
   ],
   "source": [
    "#read_final_df csv as spark df\n",
    "df_final = spark.read.csv('df_final.csv', header=True, schema=schema)\n",
    "df_final.persist()"
   ]
  },
  {
   "cell_type": "code",
   "execution_count": 5,
   "metadata": {},
   "outputs": [
    {
     "data": {
      "text/plain": [
       "225"
      ]
     },
     "execution_count": 5,
     "metadata": {},
     "output_type": "execute_result"
    }
   ],
   "source": [
    "df_final.count() #size check"
   ]
  },
  {
   "cell_type": "markdown",
   "metadata": {},
   "source": [
    "# Modeling\n",
    "Split the full dataset into train, test, and validation sets. Test out several of the machine learning methods you learned. Evaluate the accuracy of the various models, tuning parameters as necessary. Determine your winning model based on test accuracy and report results on the validation set. Since the churned users are a fairly small subset, I suggest using F1 score as the metric to optimize."
   ]
  },
  {
   "cell_type": "markdown",
   "metadata": {},
   "source": [
    "### Step 1. Train Test Split"
   ]
  },
  {
   "cell_type": "code",
   "execution_count": 13,
   "metadata": {},
   "outputs": [],
   "source": [
    "features = df_final.drop('userId','churned').columns"
   ]
  },
  {
   "cell_type": "code",
   "execution_count": 14,
   "metadata": {},
   "outputs": [],
   "source": [
    "train, test = df_final.randomSplit([0.8, 0.2],seed=42)"
   ]
  },
  {
   "cell_type": "code",
   "execution_count": 15,
   "metadata": {},
   "outputs": [],
   "source": [
    "#Vectorize the features and use Standard scaler to Scale all the features\n",
    "VectorAssembler = VectorAssembler(inputCols= features, outputCol= \"feature_vector\")\n",
    "StandardScaler = StandardScaler(inputCol= \"feature_vector\", outputCol= \"features\")\n",
    "indexer = StringIndexer(inputCol=\"churned\", outputCol=\"label\")"
   ]
  },
  {
   "cell_type": "markdown",
   "metadata": {},
   "source": [
    "## Logistic Regression Model"
   ]
  },
  {
   "cell_type": "code",
   "execution_count": 18,
   "metadata": {},
   "outputs": [],
   "source": [
    "#create Logistic Regression model\n",
    "lr =  LogisticRegression()\n",
    "pipeline_lr = Pipeline(stages=[VectorAssembler, StandardScaler, indexer, lr])"
   ]
  },
  {
   "cell_type": "code",
   "execution_count": 32,
   "metadata": {},
   "outputs": [],
   "source": [
    "model_p_lr = pipeline_lr.fit(train)\n",
    "model_p_lr.save('model_p_lr')"
   ]
  },
  {
   "cell_type": "code",
   "execution_count": 33,
   "metadata": {},
   "outputs": [],
   "source": [
    "results_p_lr = model_p_lr.transform(test)"
   ]
  },
  {
   "cell_type": "code",
   "execution_count": 25,
   "metadata": {},
   "outputs": [],
   "source": [
    "def evaluate_model(results):\n",
    "    \"\"\"Given a results dataframe returns accuracy and f1-score\n",
    "    Input - Result dataframe with actual output value in column \"label\" and predicted value in \"prediction\"\n",
    "    Output - Accuracy, Precision, Recall and F1 Score for the model\n",
    "    \"\"\"\n",
    "    \n",
    "    tp = results.filter(\"label = 1 and prediction = 1\").count()\n",
    "    tn = results.filter(\"label = 0 and prediction = 0\").count()\n",
    "    \n",
    "    fp = results.filter(\"label = 0 and prediction = 1\").count()\n",
    "    fn = results.filter(\"label = 1 and prediction = 0\").count()\n",
    "        \n",
    "    accuracy = (1.0*tp + tn) / (tp+tn+fp+fn)\n",
    "    precision = 1.0*tp / (tp + fp)\n",
    "    recall = 1.0*tp / (tp + fn)\n",
    "    try: \n",
    "        f1 = 2.0 * (precision * recall) / (precision + recall) \n",
    "    except ZeroDivisionError:\n",
    "        f1 = 0\n",
    "    \n",
    "    print('Accuracy: ', accuracy)\n",
    "    print('Precision: ', precision)\n",
    "    print('Recall: ', recall)\n",
    "    print('F1-Score: ', f1)\n",
    "    return"
   ]
  },
  {
   "cell_type": "code",
   "execution_count": 35,
   "metadata": {},
   "outputs": [
    {
     "name": "stdout",
     "output_type": "stream",
     "text": [
      "Accuracy:  0.7692307692307693\n",
      "Precision:  0.5454545454545454\n",
      "Recall:  0.46153846153846156\n",
      "F1-Score:  0.4999999999999999\n"
     ]
    }
   ],
   "source": [
    "evaluate_model(results_p_lr)"
   ]
  },
  {
   "cell_type": "markdown",
   "metadata": {},
   "source": [
    "We see that without any Hyperparameter tuning or cross validation we have an F1 score of 0.5 for logistic Regression.\n",
    "Let's try the same with Hyperparameter tuning and cross validation"
   ]
  },
  {
   "cell_type": "code",
   "execution_count": 21,
   "metadata": {},
   "outputs": [],
   "source": [
    "paramGrid = (ParamGridBuilder() \\\n",
    "             .addGrid(lr.regParam, [0.0, 0.01, 0.1]) \\\n",
    "             .addGrid(lr.elasticNetParam, [0.0, 0.1]) \\\n",
    "             .addGrid(lr.fitIntercept, [True,False]) \\\n",
    "             .addGrid(lr.maxIter, [10, 20, 50, 100])\n",
    "             .build())\n",
    "\n",
    "crossval = CrossValidator(estimator=pipeline_lr, \\\n",
    "                          estimatorParamMaps=paramGrid, \\\n",
    "                          evaluator=MulticlassClassificationEvaluator(), \\\n",
    "                          numFolds=3)"
   ]
  },
  {
   "cell_type": "code",
   "execution_count": null,
   "metadata": {},
   "outputs": [],
   "source": [
    "model_lr = crossval.fit(train)\n",
    "model_lr_best = model_lr.bestModel"
   ]
  },
  {
   "cell_type": "code",
   "execution_count": 23,
   "metadata": {},
   "outputs": [],
   "source": [
    "model_lr_best.save('model_lr_best')"
   ]
  },
  {
   "cell_type": "code",
   "execution_count": 26,
   "metadata": {
    "scrolled": true
   },
   "outputs": [
    {
     "name": "stdout",
     "output_type": "stream",
     "text": [
      "Accuracy:  0.7884615384615384\n",
      "Precision:  0.625\n",
      "Recall:  0.38461538461538464\n",
      "F1-Score:  0.4761904761904762\n"
     ]
    }
   ],
   "source": [
    "results_lr = model_lr_best.transform(test)\n",
    "evaluate_model(results_lr)"
   ]
  },
  {
   "cell_type": "markdown",
   "metadata": {},
   "source": [
    "Let's checkout the **best LR model's Coefficients and intercept**, if any."
   ]
  },
  {
   "cell_type": "code",
   "execution_count": 27,
   "metadata": {
    "scrolled": true
   },
   "outputs": [
    {
     "data": {
      "text/plain": [
       "DenseVector([-0.1098, -0.591, 0.468, -0.085, 0.7087, 0.1426, 0.5866, -0.288, 0.1454, 0.4639, 0.0545, 0.0559, -0.0584, -0.7823, -0.1505, -0.9411, -0.0215, -0.1646, -0.607, 0.0967, -3.0122, 1.2753])"
      ]
     },
     "execution_count": 27,
     "metadata": {},
     "output_type": "execute_result"
    }
   ],
   "source": [
    "model_lr_best.stages[-1].coefficients"
   ]
  },
  {
   "cell_type": "code",
   "execution_count": 28,
   "metadata": {},
   "outputs": [
    {
     "data": {
      "text/plain": [
       "-1.5690842297772258"
      ]
     },
     "execution_count": 28,
     "metadata": {},
     "output_type": "execute_result"
    }
   ],
   "source": [
    "model_lr_best.stages[-1].intercept"
   ]
  },
  {
   "cell_type": "code",
   "execution_count": 29,
   "metadata": {
    "scrolled": true
   },
   "outputs": [
    {
     "name": "stdout",
     "output_type": "stream",
     "text": [
      "regParam: 0.0\n",
      "elasticNetParam: 0.0\n",
      "maxIter: 10\n"
     ]
    }
   ],
   "source": [
    "#get parameters for best model\n",
    "print(\"regParam:\",model_lr_best.stages[-1]._java_obj.getRegParam())\n",
    "print(\"elasticNetParam:\", model_lr_best.stages[-1]._java_obj.getElasticNetParam())\n",
    "print(\"maxIter:\", model_lr_best.stages[-1]._java_obj.getMaxIter())"
   ]
  },
  {
   "cell_type": "markdown",
   "metadata": {},
   "source": [
    "## GBT Classifier"
   ]
  },
  {
   "cell_type": "code",
   "execution_count": 15,
   "metadata": {},
   "outputs": [],
   "source": [
    "#create gbts model without any hyperparamter tuning or cross validation\n",
    "gbts = GBTClassifier()\n",
    "pipeline_gbts = Pipeline(stages=[VectorAssembler, StandardScaler, indexer, gbts])"
   ]
  },
  {
   "cell_type": "code",
   "execution_count": 22,
   "metadata": {},
   "outputs": [],
   "source": [
    "model_p_gbts = pipeline_gbts.fit(train)"
   ]
  },
  {
   "cell_type": "code",
   "execution_count": 23,
   "metadata": {},
   "outputs": [],
   "source": [
    "#save model\n",
    "model_p_gbts.save('model_p_gbts')"
   ]
  },
  {
   "cell_type": "code",
   "execution_count": 24,
   "metadata": {},
   "outputs": [
    {
     "name": "stdout",
     "output_type": "stream",
     "text": [
      "Accuracy:  0.6730769230769231\n",
      "Precision:  0.25\n",
      "Recall:  0.15384615384615385\n",
      "F1-Score:  0.1904761904761905\n"
     ]
    }
   ],
   "source": [
    "#evaluate model\n",
    "results_p_gbts = model_p_gbts.transform(test) \n",
    "evaluate_model(results_p_gbts)"
   ]
  },
  {
   "cell_type": "code",
   "execution_count": 20,
   "metadata": {},
   "outputs": [],
   "source": [
    "#refine model using hyperparameter tuning and cross validation\n",
    "paramGrid = ParamGridBuilder() \\\n",
    "    .addGrid(gbts.maxIter,[10, 20, 50]) \\\n",
    "    .addGrid(gbts.maxDepth,[5, 8, 10]) \\\n",
    "    .addGrid(gbts.stepSize,[0.01, 0.1]) \\\n",
    "    .build()\n",
    "crossval_gbts = CrossValidator(estimator=pipeline_gbts,\n",
    "                          estimatorParamMaps=paramGrid,\n",
    "                          evaluator=MulticlassClassificationEvaluator(),\n",
    "                          numFolds=3)\n",
    "model_gbts = crossval_gbts.fit(train)"
   ]
  },
  {
   "cell_type": "code",
   "execution_count": 22,
   "metadata": {},
   "outputs": [],
   "source": [
    "model_gbts_best = model_gbts.bestModel\n",
    "model_gbts_best.save('model_gbts_best')"
   ]
  },
  {
   "cell_type": "code",
   "execution_count": 23,
   "metadata": {
    "scrolled": true
   },
   "outputs": [
    {
     "name": "stdout",
     "output_type": "stream",
     "text": [
      "Accuracy:  0.6730769230769231\n",
      "Precision:  0.25\n",
      "Recall:  0.15384615384615385\n",
      "F1-Score:  0.1904761904761905\n"
     ]
    }
   ],
   "source": [
    "#predict and evaluate model\n",
    "results_gbts = model_gbts_best.transform(test)\n",
    "evaluate_model(results_gbts)"
   ]
  },
  {
   "cell_type": "code",
   "execution_count": 144,
   "metadata": {
    "scrolled": true
   },
   "outputs": [
    {
     "data": {
      "text/plain": [
       "SparseVector(22, {0: 0.0399, 1: 0.179, 2: 0.0702, 3: 0.0001, 4: 0.0, 5: 0.0139, 6: 0.0512, 7: 0.134, 8: 0.0256, 9: 0.0918, 10: 0.0241, 11: 0.0486, 12: 0.0247, 13: 0.0017, 14: 0.0333, 15: 0.017, 16: 0.0194, 17: 0.0079, 18: 0.0093, 19: 0.0268, 20: 0.1459, 21: 0.0357})"
      ]
     },
     "execution_count": 144,
     "metadata": {},
     "output_type": "execute_result"
    }
   ],
   "source": [
    "model_gbts_best.stages[-1].featureImportances"
   ]
  },
  {
   "cell_type": "code",
   "execution_count": 174,
   "metadata": {},
   "outputs": [
    {
     "name": "stdout",
     "output_type": "stream",
     "text": [
      "maxDepth: 5\n",
      "maxIter: 50\n",
      "stepSize: 0.1\n"
     ]
    }
   ],
   "source": [
    "#parameters for the best model\n",
    "print(\"maxDepth:\",model_gbts_best.stages[-1]._java_obj.getMaxDepth())\n",
    "print(\"maxIter:\", model_gbts_best.stages[-1]._java_obj.getMaxIter())\n",
    "print(\"stepSize:\", model_gbts_best.stages[-1]._java_obj.getStepSize())"
   ]
  },
  {
   "cell_type": "markdown",
   "metadata": {},
   "source": [
    "## Random Forests"
   ]
  },
  {
   "cell_type": "code",
   "execution_count": 170,
   "metadata": {},
   "outputs": [],
   "source": [
    "#create rf model without any hyperparamter tuning or cross validation\n",
    "rfc = RandomForestClassifier()\n",
    "pipeline_rfc = Pipeline(stages=[VectorAssembler, StandardScaler, indexer, rfc])"
   ]
  },
  {
   "cell_type": "code",
   "execution_count": 51,
   "metadata": {},
   "outputs": [],
   "source": [
    "model_p_rfc = pipeline_rf.fit(train)\n",
    "model_p_rfc.save('model_p_rfc')"
   ]
  },
  {
   "cell_type": "code",
   "execution_count": 57,
   "metadata": {
    "scrolled": true
   },
   "outputs": [
    {
     "name": "stdout",
     "output_type": "stream",
     "text": [
      "Accuracy:  0.7307692307692307\n",
      "Precision:  0.0\n",
      "Recall:  0.0\n",
      "F1-Score:  0\n"
     ]
    }
   ],
   "source": [
    "results_p_rfc = model_p_rfc.transform(test)\n",
    "evaluate_model(results_p_rfc)"
   ]
  },
  {
   "cell_type": "markdown",
   "metadata": {},
   "source": [
    "We see 0 for precision, recall and f1 score for Random Forest model. Let's explore and see why."
   ]
  },
  {
   "cell_type": "code",
   "execution_count": 52,
   "metadata": {
    "scrolled": true
   },
   "outputs": [
    {
     "name": "stdout",
     "output_type": "stream",
     "text": [
      "+-----+----------+-----+\n",
      "|label|prediction|count|\n",
      "+-----+----------+-----+\n",
      "|  0.0|       1.0|    1|\n",
      "|  1.0|       0.0|   13|\n",
      "|  0.0|       0.0|   38|\n",
      "+-----+----------+-----+\n",
      "\n"
     ]
    }
   ],
   "source": [
    "results_p_rfc.groupby('label', 'prediction').count().show()"
   ]
  },
  {
   "cell_type": "markdown",
   "metadata": {},
   "source": [
    "There are no True Positives and hence, the 0s in the evaluation for everything except Accuracy. Let's see if hyperparameter tuning will help the model become better."
   ]
  },
  {
   "cell_type": "code",
   "execution_count": 58,
   "metadata": {},
   "outputs": [],
   "source": [
    "#refine model using hyperparameter tuning and cross validation\n",
    "paramGrid = ParamGridBuilder() \\\n",
    "    .addGrid(rfc.numTrees, [10,20,30]) \\\n",
    "    .addGrid(rfc.maxDepth,[5,8,10]) \\\n",
    "    .build()\n",
    "\n",
    "\n",
    "crossval_rfc = CrossValidator(estimator=pipeline_rfc,\n",
    "                          estimatorParamMaps=paramGrid,\n",
    "                          evaluator=MulticlassClassificationEvaluator(),\n",
    "                          numFolds=3)"
   ]
  },
  {
   "cell_type": "code",
   "execution_count": 59,
   "metadata": {},
   "outputs": [],
   "source": [
    "model_rfc = crossval_rfc.fit(train)\n",
    "model_rfc_best = model_rfc.bestModel\n",
    "model_rfc_best.save('model_rfc_best')"
   ]
  },
  {
   "cell_type": "code",
   "execution_count": 61,
   "metadata": {},
   "outputs": [
    {
     "name": "stdout",
     "output_type": "stream",
     "text": [
      "Accuracy:  0.7884615384615384\n",
      "Precision:  1.0\n",
      "Recall:  0.15384615384615385\n",
      "F1-Score:  0.2666666666666667\n"
     ]
    }
   ],
   "source": [
    "#transform and evaluate tuned SVC model\n",
    "results_rfc = model_rfc_best.transform(test)\n",
    "evaluate_model(results_rfc)"
   ]
  },
  {
   "cell_type": "code",
   "execution_count": 164,
   "metadata": {},
   "outputs": [
    {
     "data": {
      "text/plain": [
       "SparseVector(22, {0: 0.0857, 1: 0.0593, 2: 0.0651, 3: 0.0058, 4: 0.0053, 5: 0.0578, 6: 0.0457, 7: 0.053, 8: 0.036, 9: 0.0474, 10: 0.0446, 11: 0.0149, 12: 0.0457, 13: 0.0228, 14: 0.0406, 15: 0.0559, 16: 0.0355, 17: 0.0292, 18: 0.0302, 19: 0.0064, 20: 0.1656, 21: 0.0474})"
      ]
     },
     "execution_count": 164,
     "metadata": {},
     "output_type": "execute_result"
    }
   ],
   "source": [
    "model_rfc_best.stages[-1].featureImportances"
   ]
  },
  {
   "cell_type": "code",
   "execution_count": 133,
   "metadata": {
    "scrolled": true
   },
   "outputs": [
    {
     "name": "stdout",
     "output_type": "stream",
     "text": [
      "['songs_per_session', 'session_count', 'pages_per_session', 'gender', 'level', 'avg_session_time', 'thumbs_down_count', 'thumbs_up_count', 'home_count', 'roll_advert_count', 'logout_count', 'save_settings_count', 'settings_count', 'about_count', 'add_to_playlist_count', 'add_friend_count', 'nextsong_count', 'help_count', 'error_count', 'downgraded', 'avg_time_bw_ses', 'ratio_recent_to_initial_freq']\n"
     ]
    }
   ],
   "source": [
    "print(features)"
   ]
  },
  {
   "cell_type": "code",
   "execution_count": 177,
   "metadata": {
    "scrolled": false
   },
   "outputs": [
    {
     "name": "stdout",
     "output_type": "stream",
     "text": [
      "numTrees: 30\n",
      "maxDepth: 8\n"
     ]
    }
   ],
   "source": [
    "#Parameters for the best model\n",
    "print(\"numTrees:\",model_rfc_best.stages[-1]._java_obj.getNumTrees())\n",
    "print(\"maxDepth:\", model_rfc_best.stages[-1]._java_obj.getMaxDepth())"
   ]
  },
  {
   "cell_type": "code",
   "execution_count": 9,
   "metadata": {},
   "outputs": [],
   "source": [
    "model_rfc_best = PipelineModel.load('model_rfc_best')"
   ]
  },
  {
   "cell_type": "markdown",
   "metadata": {},
   "source": [
    "## Support Vector Classifier"
   ]
  },
  {
   "cell_type": "code",
   "execution_count": 8,
   "metadata": {},
   "outputs": [],
   "source": [
    "#create svc model without any hyperparamter tuning or cross validation\n",
    "svc = LinearSVC()\n",
    "pipeline_svc = Pipeline(stages=[VectorAssembler, StandardScaler, indexer, svc])"
   ]
  },
  {
   "cell_type": "code",
   "execution_count": 24,
   "metadata": {},
   "outputs": [],
   "source": [
    "model_p_svc = pipeline_svc.fit(train)"
   ]
  },
  {
   "cell_type": "code",
   "execution_count": null,
   "metadata": {},
   "outputs": [],
   "source": [
    "model_p_svc.save('model_p_svc')"
   ]
  },
  {
   "cell_type": "code",
   "execution_count": 27,
   "metadata": {},
   "outputs": [
    {
     "name": "stdout",
     "output_type": "stream",
     "text": [
      "Accuracy:  0.8076923076923077\n",
      "Precision:  0.6666666666666666\n",
      "Recall:  0.46153846153846156\n",
      "F1-Score:  0.5454545454545455\n"
     ]
    }
   ],
   "source": [
    "#evaluate model\n",
    "results_p_svc = model_p_svc.transform(test) \n",
    "evaluate_model(results_p_svc)"
   ]
  },
  {
   "cell_type": "code",
   "execution_count": 63,
   "metadata": {},
   "outputs": [],
   "source": [
    "#refine model using hyperparameter tuning and cross validation\n",
    "paramGrid = ParamGridBuilder() \\\n",
    "    .addGrid(svc.regParam, [0.0, 0.01, 0.1, 0.5]) \\\n",
    "    .addGrid(svc.maxIter,[100, 200]) \\\n",
    "    .addGrid(svc.fitIntercept,[True, False]) \\\n",
    "    .build()\n",
    "\n",
    "\n",
    "crossval_svc = CrossValidator(estimator=pipeline_svc,\n",
    "                          estimatorParamMaps=paramGrid,\n",
    "                          evaluator=MulticlassClassificationEvaluator(),\n",
    "                          numFolds=3)"
   ]
  },
  {
   "cell_type": "code",
   "execution_count": 64,
   "metadata": {},
   "outputs": [],
   "source": [
    "model_svc = crossval_svc.fit(train)\n",
    "model_svc_best = model_svc.bestModel\n",
    "model_svc_best.save('model_svc_best')"
   ]
  },
  {
   "cell_type": "code",
   "execution_count": 39,
   "metadata": {},
   "outputs": [
    {
     "name": "stdout",
     "output_type": "stream",
     "text": [
      "Accuracy:  0.8269230769230769\n",
      "Precision:  0.75\n",
      "Recall:  0.46153846153846156\n",
      "F1-Score:  0.5714285714285714\n"
     ]
    }
   ],
   "source": [
    "#transform and evaluate tuned SVC model\n",
    "results_svc = model_svc_best.transform(test)\n",
    "evaluate_model(results_svc)"
   ]
  },
  {
   "cell_type": "markdown",
   "metadata": {},
   "source": [
    "Let's get the **final SVC model** Coefficients and intercept, if any."
   ]
  },
  {
   "cell_type": "code",
   "execution_count": 45,
   "metadata": {},
   "outputs": [
    {
     "data": {
      "text/plain": [
       "DenseVector([0.0295, -0.6298, 0.1717, -0.0576, 0.1789, 0.0707, 0.1869, 0.0125, 0.1181, 0.1768, -0.0067, -0.0218, 0.1137, -0.1964, -0.3247, -0.4906, -0.0046, -0.0338, -0.1216, -0.023, -1.7052, 0.2933])"
      ]
     },
     "execution_count": 45,
     "metadata": {},
     "output_type": "execute_result"
    }
   ],
   "source": [
    "model_svc_best.stages[-1].coefficients"
   ]
  },
  {
   "cell_type": "code",
   "execution_count": 77,
   "metadata": {},
   "outputs": [
    {
     "data": {
      "text/plain": [
       "['songs_per_session',\n",
       " 'session_count',\n",
       " 'pages_per_session',\n",
       " 'gender',\n",
       " 'level',\n",
       " 'avg_session_time',\n",
       " 'thumbs_down_count',\n",
       " 'thumbs_up_count',\n",
       " 'home_count',\n",
       " 'roll_advert_count',\n",
       " 'logout_count',\n",
       " 'save_settings_count',\n",
       " 'settings_count',\n",
       " 'about_count',\n",
       " 'add_to_playlist_count',\n",
       " 'add_friend_count',\n",
       " 'nextsong_count',\n",
       " 'help_count',\n",
       " 'error_count',\n",
       " 'downgraded',\n",
       " 'avg_time_bw_ses',\n",
       " 'ratio_recent_to_initial_freq']"
      ]
     },
     "execution_count": 77,
     "metadata": {},
     "output_type": "execute_result"
    }
   ],
   "source": [
    "features"
   ]
  },
  {
   "cell_type": "code",
   "execution_count": 156,
   "metadata": {},
   "outputs": [
    {
     "data": {
      "text/plain": [
       "0.0"
      ]
     },
     "execution_count": 156,
     "metadata": {},
     "output_type": "execute_result"
    }
   ],
   "source": [
    "model_svc_best.stages[-1].intercept"
   ]
  },
  {
   "cell_type": "markdown",
   "metadata": {},
   "source": [
    "Let's see what the parameters are for the best model"
   ]
  },
  {
   "cell_type": "code",
   "execution_count": 163,
   "metadata": {
    "scrolled": false
   },
   "outputs": [
    {
     "name": "stdout",
     "output_type": "stream",
     "text": [
      "regParam: 0.01\n",
      "maxIter: 200\n"
     ]
    }
   ],
   "source": [
    "print(\"regParam:\",model_svc_best.stages[-1]._java_obj.getRegParam())\n",
    "print(\"maxIter:\", model_svc_best.stages[-1]._java_obj.getMaxIter())"
   ]
  },
  {
   "cell_type": "code",
   "execution_count": 16,
   "metadata": {},
   "outputs": [],
   "source": [
    "model_svc_best = PipelineModel.load('model_svc_best')"
   ]
  },
  {
   "cell_type": "code",
   "execution_count": 51,
   "metadata": {},
   "outputs": [
    {
     "data": {
      "text/plain": [
       "[('avg_time_bw_ses', -1.7051779668309084),\n",
       " ('session_count', -0.62983306592734356),\n",
       " ('add_friend_count', -0.49059099692832708),\n",
       " ('add_to_playlist_count', -0.32467286478659563),\n",
       " ('about_count', -0.19644531483191605),\n",
       " ('error_count', -0.12159244718080688),\n",
       " ('gender', -0.057575496272622567),\n",
       " ('help_count', -0.033766979944737291),\n",
       " ('downgraded', -0.02304214312968306),\n",
       " ('save_settings_count', -0.021757027090098548),\n",
       " ('logout_count', -0.0067098354788494617),\n",
       " ('nextsong_count', -0.0046373342118433665),\n",
       " ('thumbs_up_count', 0.012524425968234183),\n",
       " ('songs_per_session', 0.029521410452732509),\n",
       " ('avg_session_time', 0.070684693936584136),\n",
       " ('settings_count', 0.1136618024726174),\n",
       " ('home_count', 0.11811135716561597),\n",
       " ('pages_per_session', 0.17167776081149699),\n",
       " ('roll_advert_count', 0.17676805883222418),\n",
       " ('level', 0.17888215699076582),\n",
       " ('thumbs_down_count', 0.18694263792942373),\n",
       " ('ratio_recent_to_initial_freq', 0.29330304745065144)]"
      ]
     },
     "execution_count": 51,
     "metadata": {},
     "output_type": "execute_result"
    }
   ],
   "source": [
    "#Features mapped to their coefficients\n",
    "feature_Mapped = dict(zip(features, model_svc_best.stages[-1].coefficients))\n",
    "sorted_features = sorted(feature_Mapped.items(), key=lambda kv: kv[1])\n",
    "sorted_features"
   ]
  },
  {
   "cell_type": "code",
   "execution_count": 88,
   "metadata": {},
   "outputs": [
    {
     "data": {
      "image/png": "[encoded data removed]",
      "text/plain": [
       "<matplotlib.figure.Figure at 0x7fad5c7ed358>"
      ]
     },
     "metadata": {
      "needs_background": "light"
     },
     "output_type": "display_data"
    }
   ],
   "source": [
    "#Visualize features to their coefficients\n",
    "y,x = zip(*sorted_features)\n",
    "plt.figure(figsize=(12,10))\n",
    "plt.axis(xmin=-2, xmax=2)\n",
    "plt.xticks(np.arange(-2, 2, 0.25))\n",
    "plt.scatter(x,y);"
   ]
  },
  {
   "cell_type": "markdown",
   "metadata": {},
   "source": [
    "# Conclusion"
   ]
  },
  {
   "cell_type": "markdown",
   "metadata": {},
   "source": [
    "## Models\n",
    "\n",
    "We see that our best model in term's of our agreed upon metric F1 score is **Support Vector Classifier**. We have achieved 82% accuracy and 57% F1 score on the test data post hyperparameter tuning and cross validation.\n",
    "\n",
    "We have tried to use the direct model without any hyperparameter tuning or cross validation for each of the models and then refined them using tuning of paramters and cross validation. We chose Cross Validation over TrainValidationSplit as we have a small dataset and Cross validation generally provides a better fit for Classification purposes.\n",
    "\n",
    "Also note that we did explicitly call out best model for each of the models post validation, which is not necessary as the models choose best model for estimation purposes by default. The reason why I did it is only to save my best model before I close my session as the project spanned across multiple days.\n",
    "\n",
    "Few interesting details I noticed about the models:\n",
    "* I wonder if **Support Vector Classifier** will give us even better results if we increase our maxIter parameter. However, it is important to note that SVC is very time consuming and has taken significantly higher amount of time to train on this small dataset relatively when compared with the other models. The current best model has maxIter 200, and regParam 0.01. It has no intercept.\n",
    "* **Logistic regression** got a better F1 score without any hyperparameter tuning. It has got an F1 score of 50% without any tuning whilst only getting 47% post tuning.\n",
    "* **Random Forests**, without hyperparameter tuning got zero Precision and Recall (becuase of which I have to edit my evaluate_model function too to include exception handling for F1 score). Best model had 30 Trees and maxDepth 8. This is because of having zero true positives. The F1 score improved later to 26% upon refinement of the model using tuning and cross validation.\n",
    "* **Gradient Boosting Trees** has remained at an F1 score of 19% with or without tuning implying that the default parameters have been the best for this dataset. The best model has maxDepth 5, maxIter 50, and stepSize 0.1"
   ]
  },
  {
   "cell_type": "markdown",
   "metadata": {},
   "source": [
    "## Features\n",
    "The dominant features remained consistent across models.\n",
    "In our winning model SVC, the features playing an important role in deciding whether a user will Churn or not are \n",
    "* **Average time between sessions**. It is by far the most dominant feature. It is inversely correlated as expected. Users having more time in between sessions see less value in paying or using a platform which has a recurring monthly subscription. Even if he/she doesn't pay, they might feel the platform is not needed for them anymore.\n",
    "* **Session Count**, **Add friend count**, and **Add to playlist count** also had a surprisingly negative effect which is contradicting our hypothesis.\n",
    "* **Ratio recent count to initial count** for which we had to feature engineer the field with more difficulty than the others had positive effect as expected. However, the extent of it was less than what we expected.\n",
    "\n",
    "Finally, 22 features is fine to work with our models given the relatively small dataset that we worked for our project. However I strongly believe we should use PCA for feature selection before proceeding with any of our models if we want to deploy it on any large datasets."
   ]
  },
  {
   "cell_type": "code",
   "execution_count": null,
   "metadata": {},
   "outputs": [],
   "source": []
  }
 ],
 "metadata": {
  "kernelspec": {
   "display_name": "Python 3",
   "language": "python",
   "name": "python3"
  },
  "language_info": {
   "codemirror_mode": {
    "name": "ipython",
    "version": 3
   },
   "file_extension": ".py",
   "mimetype": "text/x-python",
   "name": "python",
   "nbconvert_exporter": "python",
   "pygments_lexer": "ipython3",
   "version": "3.6.3"
  }
 },
 "nbformat": 4,
 "nbformat_minor": 2
}
